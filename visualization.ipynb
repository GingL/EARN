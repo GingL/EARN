{
 "cells": [
  {
   "cell_type": "code",
   "execution_count": 5,
   "metadata": {},
   "outputs": [],
   "source": [
    "import torch\n",
    "cocog_val = torch.load('cache/prepro/refcocog_google/complex_rel_val.pth')"
   ]
  },
  {
   "cell_type": "code",
   "execution_count": 8,
   "metadata": {},
   "outputs": [
    {
     "name": "stdout",
     "output_type": "stream",
     "text": [
      "{'sent_id': 36061, 'ref_id': 1698, 'sent': 'there is one person wearing white dress and helmet looking at somewhere'}\n",
      "{'sent_id': 463, 'ref_id': 29, 'sent': 'a young child with dark straight hair in a stripped suit hits a small ball with a tennis racquet'}\n",
      "{'sent_id': 49824, 'ref_id': 2364, 'sent': 'man wearing white sneakers , white shorts , and black red sox shirt'}\n",
      "{'sent_id': 16273, 'ref_id': 752, 'sent': 'apple note book closed and next to the another laptop on the table'}\n",
      "{'sent_id': 60119, 'ref_id': 2866, 'sent': 'a lighter brown striped cat <UNK> with another cat'}\n",
      "{'sent_id': 46156, 'ref_id': 2175, 'sent': 'a woman wearing pink tshirt holding a camera , trying to take the video of a boy'}\n",
      "{'sent_id': 93704, 'ref_id': 4493, 'sent': 'the leg of a man wearing red shoes with green laces'}\n",
      "{'sent_id': 10022, 'ref_id': 459, 'sent': 'a tan colored dog is <UNK> a hole on a beach'}\n",
      "{'sent_id': 5485, 'ref_id': 270, 'sent': 'a woman with a blue apron who is holding her head to the side'}\n",
      "{'sent_id': 43750, 'ref_id': 2059, 'sent': 'the woman in white and purple pants in the right hand picture'}\n"
     ]
    }
   ],
   "source": [
    "import random\n",
    "list = [random.randint(0,len(cocog_val)) for _ in range(10) ]\n",
    "for i in list:\n",
    "    print(cocog_val[i])"
   ]
  },
  {
   "cell_type": "code",
   "execution_count": null,
   "metadata": {},
   "outputs": [],
   "source": []
  }
 ],
 "metadata": {
  "interpreter": {
   "hash": "31f2aee4e71d21fbe5cf8b01ff0e069b9275f58929596ceb00d14d90e3e16cd6"
  },
  "kernelspec": {
   "display_name": "Python 3.5.2 64-bit",
   "language": "python",
   "name": "python3"
  },
  "language_info": {
   "codemirror_mode": {
    "name": "ipython",
    "version": 3
   },
   "file_extension": ".py",
   "mimetype": "text/x-python",
   "name": "python",
   "nbconvert_exporter": "python",
   "pygments_lexer": "ipython3",
   "version": "3.5.2"
  },
  "orig_nbformat": 4
 },
 "nbformat": 4,
 "nbformat_minor": 2
}
