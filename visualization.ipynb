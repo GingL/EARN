{
 "cells": [
  {
   "cell_type": "code",
   "execution_count": 5,
   "metadata": {},
   "outputs": [],
   "source": [
    "import torch\n",
    "cocog_val = torch.load('cache/prepro/refcocog_google/complex_rel_val.pth')"
   ]
  },
  {
   "cell_type": "code",
   "execution_count": 8,
   "metadata": {},
   "outputs": [
    {
     "name": "stdout",
     "output_type": "stream",
     "text": [
      "{'sent_id': 36061, 'ref_id': 1698, 'sent': 'there is one person wearing white dress and helmet looking at somewhere'}\n",
      "{'sent_id': 463, 'ref_id': 29, 'sent': 'a young child with dark straight hair in a stripped suit hits a small ball with a tennis racquet'}\n",
      "{'sent_id': 49824, 'ref_id': 2364, 'sent': 'man wearing white sneakers , white shorts , and black red sox shirt'}\n",
      "{'sent_id': 16273, 'ref_id': 752, 'sent': 'apple note book closed and next to the another laptop on the table'}\n",
      "{'sent_id': 60119, 'ref_id': 2866, 'sent': 'a lighter brown striped cat <UNK> with another cat'}\n",
      "{'sent_id': 46156, 'ref_id': 2175, 'sent': 'a woman wearing pink tshirt holding a camera , trying to take the video of a boy'}\n",
      "{'sent_id': 93704, 'ref_id': 4493, 'sent': 'the leg of a man wearing red shoes with green laces'}\n",
      "{'sent_id': 10022, 'ref_id': 459, 'sent': 'a tan colored dog is <UNK> a hole on a beach'}\n",
      "{'sent_id': 5485, 'ref_id': 270, 'sent': 'a woman with a blue apron who is holding her head to the side'}\n",
      "{'sent_id': 43750, 'ref_id': 2059, 'sent': 'the woman in white and purple pants in the right hand picture'}\n"
     ]
    }
   ],
   "source": [
    "import random\n",
    "list = [random.randint(0,len(cocog_val)) for _ in range(10) ]\n",
    "for i in list:\n",
    "    print(cocog_val[i])"
   ]
  },
  {
   "cell_type": "code",
   "execution_count": null,
   "metadata": {},
   "outputs": [],
   "source": [
    "import json\n",
    "import matplotlib.pyplot as plt\n",
    "import matplotlib\n",
    "from matplotlib.patches import Polygon, Rectangle\n",
    "import skimage.io as io\n",
    "import os.path as osp\n",
    "import numpy as np\n",
    "\n",
    "dataset = 'refcoco'\n",
    "split_by = 'unc'\n",
    "\n",
    "dataset_splitby = dataset+'_'+split_by\n",
    "info = json.load(open(osp.join('/path/to/prepro', dataset_splitby, 'data.json')))\n",
    "images = info['images']\n",
    "anns = info['anns']\n",
    "sents = info['sentences']\n",
    "refs = info['refs']\n",
    "Images = {image['image_id']: image for image in images}\n",
    "Anns = {ann['ann_id']: ann for ann in anns}\n",
    "Sents = {sent['sent_id']: sent for sent in sents}\n",
    "Refs = {ref['ref_id']: ref for ref in refs}\n",
    "\n",
    "#获取图片名称\n",
    "instances = json.load(open(osp.join('/path/to//data',dataset,'instances.json'), 'r'))\n",
    "imgs = instances['images']\n",
    "Imgs = {}\n",
    "for img in imgs:\n",
    "    Imgs[img['id']] = img"
   ]
  },
  {
   "cell_type": "code",
   "execution_count": null,
   "metadata": {},
   "outputs": [],
   "source": [
    "import torch\n",
    "import random\n",
    "from random import choice\n",
    "IMAGE_DIR = 'path/to/mscoco/images/train2014'\n",
    "coco_vals = torch.load('./cache/prepro/refcoco_unc/complex_rel_eval.pth')\n",
    "coco_val = choice(coco_vals)\n",
    "ref_id = coco_val['ref_id']\n",
    "sent_id = coco_val['sent_id']\n",
    "sent = coco_val['sent']\n",
    "print(sent)\n",
    "ref = Refs[ref_id]\n",
    "image_id = ref['image_id']\n",
    "img_path = osp.join(IMAGE_DIR, Imgs[image_id]['file_name'])\n",
    "ann_box = ref['box']\n",
    "plt.figure()\n",
    "ax = plt.gca()\n",
    "\n",
    "I = io.imread(img_path)\n",
    "ax.imshow(I)\n",
    "\n",
    "# Rectangle (x, y, width, height)\n",
    "box_plot = Rectangle((ann_box[0], ann_box[1]), ann_box[2], ann_box[3], fill=False, edgecolor='red', linewidth=3)\n",
    "ax.add_patch(box_plot)\n",
    "plt.show()\n",
    "plt.clf()\n",
    "plt.close()\n"
   ]
  }
 ],
 "metadata": {
  "interpreter": {
   "hash": "31f2aee4e71d21fbe5cf8b01ff0e069b9275f58929596ceb00d14d90e3e16cd6"
  },
  "kernelspec": {
   "display_name": "Python 3.5.2 64-bit",
   "language": "python",
   "name": "python3"
  },
  "language_info": {
   "codemirror_mode": {
    "name": "ipython",
    "version": 3
   },
   "file_extension": ".py",
   "mimetype": "text/x-python",
   "name": "python",
   "nbconvert_exporter": "python",
   "pygments_lexer": "ipython3",
   "version": "3.5.2"
  },
  "orig_nbformat": 4
 },
 "nbformat": 4,
 "nbformat_minor": 2
}
